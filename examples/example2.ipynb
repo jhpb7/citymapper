{
 "cells": [
  {
   "cell_type": "code",
   "execution_count": 1,
   "metadata": {},
   "outputs": [],
   "source": [
    "import os\n",
    "os.chdir(\"..\")\n",
    "\n",
    "from src.utils import save_cities_same_scale_same_figure\n"
   ]
  },
  {
   "cell_type": "code",
   "execution_count": 2,
   "metadata": {},
   "outputs": [
    {
     "data": {
      "image/png": "[encoded data removed]",
      "text/plain": [
       "<Figure size 1000x500 with 1 Axes>"
      ]
     },
     "metadata": {},
     "output_type": "display_data"
    }
   ],
   "source": [
    "# Example inputs\n",
    "bounding_boxes = {\n",
    "    \"Darmstadt\": {\"minx\": 8.56, \"miny\": 49.83, \"maxx\": 8.72, \"maxy\": 49.93},\n",
    "    # \"Tehran\":    {\"minx\": 51.20, \"miny\": 35.60, \"maxx\": 51.50, \"maxy\": 35.80},\n",
    "    \"Tehran\":    {\"minx\": 51.16, \"miny\": 35.60, \"maxx\": 51.57, \"maxy\": 35.81},\n",
    "    \"Istanbul\":  {\"minx\": 28.65, \"miny\": 40.80, \"maxx\": 29.45, \"maxy\": 41.20},\n",
    "    \"Aachen\":    {\"minx\": 6.02,  \"miny\": 50.73, \"maxx\": 6.19, \"maxy\": 50.81},\n",
    "    \"Frankfurt\": {\"minx\": 8.48, \"miny\": 50.05, \"maxx\": 8.78, \"maxy\": 50.2188},\n",
    "}\n",
    "\n",
    "foldernames = {\n",
    "    \"Frankfurt\": \"hessen-latest-free.shp\",\n",
    "    \"Istanbul\": \"turkey-latest-free.shp\",\n",
    "    # add entries as needed for your cities\n",
    "    \"Darmstadt\": \"hessen-latest-free.shp\",\n",
    "    \"Aachen\":    \"koeln-regbez-latest-free.shp\",\n",
    "    \"Tehran\":    \"iran-latest-free.shp\",\n",
    "}\n",
    "\n",
    "from src.utils import plot_bounding_boxes\n",
    "\n",
    "plot_bounding_boxes(bounding_boxes)"
   ]
  },
  {
   "cell_type": "code",
   "execution_count": 3,
   "metadata": {},
   "outputs": [],
   "source": [
    "# Colors (per your LABELS order: bg, road, rail, landscape, land)\n",
    "palette = {\n",
    "    \"bg\": \"#19535F\",\n",
    "    \"road\": \"#F0F3F5\",\n",
    "    \"landscape\": \"#7B2D26\",\n",
    "    \"rail\": \"#0B7A75\",\n",
    "    \"land\": \"#cfab5d\",\n",
    "    \"mountain\": \"#cc8516\"}\n",
    "\n",
    "purplee = {\"rail\":\"#6495ED\", \"land\": \"#663399\", \"bg\":\"#DAA520\", \"road\":\"#FAFAD2\", \"landscape\":\"#FFF5EE\", \"mountain\": \"#4a1b79\"}\n",
    "\n",
    "purplee2 = {\"rail\":\"#6495ED\", \"land\": \"#663399\", \"bg\":\"#DAA520\", \"road\":\"#FAFAD2\", \"landscape\":\"#d0e8e8\", \"mountain\": \"#4a1b79\"}\n",
    "\n",
    "blacky = {\n",
    "    \"rail\": \"#00A7E1\",\n",
    "    \"land\": \"#001514\",\n",
    "    \"bg\": \"#A3320B\", \n",
    "    \"road\": \"#6B0504\",\n",
    "    \"landscape\": \"#FFFFFF\",\n",
    "    \"mountain\": \"#c4c4c4\",\n",
    "}\n",
    "\n",
    "blacky2 = {\n",
    "    \"rail\": \"#00A7E1\",\n",
    "    \"land\": \"#001514\",\n",
    "    \"bg\": \"#c4c4c4\", \n",
    "    \"road\": \"#6B0504\",\n",
    "    \"landscape\": \"#A3320B\",\n",
    "    \"mountain\": \"#000000\",\n",
    "}\n",
    "\n",
    "bluenight = {\n",
    "    \"rail\": \"#FFAD05\",\n",
    "    \"land\": \"#044389\",\n",
    "    \"bg\": \"#FCFF4B\", \n",
    "    \"road\": \"#7CAFC4\",\n",
    "    \"landscape\": \"#5995ED\",\n",
    "    \"mountain\": \"#012854\",\n",
    "}\n",
    "\n",
    "brighty = {\n",
    "    \"rail\": \"#D3D3D3\",\n",
    "    \"land\": \"#4169E1\",\n",
    "    \"bg\": \"#FFFFE0\", \n",
    "    \"road\": \"#C0C0C0\",\n",
    "    \"landscape\": \"#FFF0F5\",\n",
    "    \"mountain\": \"#3453af\",\n",
    "}\n",
    "\n",
    "color_palette = [palette, purplee, purplee2, blacky, bluenight, brighty]"
   ]
  },
  {
   "cell_type": "code",
   "execution_count": 5,
   "metadata": {},
   "outputs": [],
   "source": [
    "cities = [\"Istanbul\", \"Tehran\",\"Darmstadt\", \"Frankfurt\", \"Aachen\",]\n",
    "colors_per_city = {city:blacky for city in cities}\n",
    "\n",
    "colors_per_city[\"Istanbul\"] = blacky2\n",
    "\n",
    "save_cities_same_scale_same_figure(\n",
    "    cities=cities, # \n",
    "    foldernames=foldernames,\n",
    "    bounding_boxes=bounding_boxes,\n",
    "    colors_per_city=colors_per_city,\n",
    "    out_pdf=f\"output/four_cities_colors_thicker_roads_blacky.pdf\"\n",
    ")"
   ]
  },
  {
   "cell_type": "code",
   "execution_count": null,
   "metadata": {},
   "outputs": [
    {
     "name": "stdout",
     "output_type": "stream",
     "text": [
      "Compute 0\n"
     ]
    }
   ],
   "source": [
    "\n",
    "# cities = [\"Istanbul\"]#, \"Tehran\",\"Darmstadt\", \"Frankfurt\", \"Aachen\", ]\n",
    "\n",
    "for idx, colors in enumerate(color_palette):\n",
    "    print(f\"Compute {idx}\")\n",
    "    colors_per_city = {city:color_palette[idx] for city in cities}\n",
    "    save_cities_same_scale_same_figure(\n",
    "        cities=cities, # \n",
    "        foldernames=foldernames,\n",
    "        bounding_boxes=bounding_boxes,\n",
    "        colors_per_city=colors_per_city,\n",
    "        out_pdf=f\"output/four_cities_colors_thicker_roads_blacky_{idx}.pdf\"\n",
    "    )"
   ]
  }
 ],
 "metadata": {
  "kernelspec": {
   "display_name": "env",
   "language": "python",
   "name": "python3"
  },
  "language_info": {
   "codemirror_mode": {
    "name": "ipython",
    "version": 3
   },
   "file_extension": ".py",
   "mimetype": "text/x-python",
   "name": "python",
   "nbconvert_exporter": "python",
   "pygments_lexer": "ipython3",
   "version": "3.9.19"
  }
 },
 "nbformat": 4,
 "nbformat_minor": 2
}
