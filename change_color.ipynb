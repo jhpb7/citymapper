{
 "cells": [
  {
   "cell_type": "code",
   "execution_count": null,
   "metadata": {
    "vscode": {
     "languageId": "plaintext"
    }
   },
   "outputs": [],
   "source": [
    "!pwd"
   ]
  },
  {
   "cell_type": "code",
   "execution_count": null,
   "metadata": {
    "vscode": {
     "languageId": "plaintext"
    }
   },
   "outputs": [],
   "source": [
    "import os\n",
    "\n"
   ]
  },
  {
   "cell_type": "code",
   "execution_count": null,
   "metadata": {
    "vscode": {
     "languageId": "plaintext"
    }
   },
   "outputs": [],
   "source": [
    "import fitz  # PyMuPDF\n",
    "\n",
    "def change_black_strokes_to_blue(pdf_path, output_path):\n",
    "    # Open the PDF\n",
    "    pdf_document = fitz.open(pdf_path)\n",
    "\n",
    "    # Define the color transformation (black to blue)\n",
    "    black_rgb = (0, 0, 0)  # Black in RGB\n",
    "    blue_rgb = (0, 0, 1)   # Blue in normalized RGB (0 to 1)\n",
    "\n",
    "    # Iterate through pages\n",
    "    for page_number in range(len(pdf_document)):\n",
    "        page = pdf_document[page_number]\n",
    "\n",
    "        # Get the page's content\n",
    "        for block in page.get_text(\"dict\", flags=11)[\"blocks\"]:\n",
    "            for line in block.get(\"lines\", []):\n",
    "                for span in line.get(\"spans\", []):\n",
    "                    # Check for black stroke color\n",
    "                    if span.get(\"stroke_color\") == black_rgb:\n",
    "                        # Change stroke color to blue\n",
    "                        span[\"stroke_color\"] = blue_rgb\n",
    "\n",
    "    # Save the modified PDF\n",
    "    pdf_document.save(output_path)\n",
    "    pdf_document.close()\n",
    "\n",
    "# Replace with your input and output file paths\n",
    "input_pdf_path = \"input.pdf\"\n",
    "output_pdf_path = \"output.pdf\"\n",
    "\n",
    "change_black_strokes_to_blue(input_pdf_path, output_pdf_path)\n"
   ]
  }
 ],
 "metadata": {
  "language_info": {
   "name": "python"
  }
 },
 "nbformat": 4,
 "nbformat_minor": 2
}
